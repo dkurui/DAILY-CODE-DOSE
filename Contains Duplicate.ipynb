{
 "cells": [
  {
   "cell_type": "markdown",
   "id": "eebbf88b",
   "metadata": {},
   "source": [
    "Given an integer array nums, return true if any value appears at least twice in the array, and return false if every element is distinct.\n",
    "\n",
    " \n",
    "\n",
    "Example 1:\n",
    "\n",
    "Input: nums = [1,2,3,1]\n",
    "Output: true\n",
    "Example 2:\n",
    "\n",
    "Input: nums = [1,2,3,4]\n",
    "Output: false\n",
    "Example 3:\n",
    "\n",
    "Input: nums = [1,1,1,3,3,4,3,2,4,2]\n",
    "Output: true"
   ]
  },
  {
   "cell_type": "code",
   "execution_count": 42,
   "id": "543f487f",
   "metadata": {},
   "outputs": [],
   "source": [
    "#nums = [1,1,1,3,3,4,3,2,4,2] \n",
    "h =[2,14,18,22,42]"
   ]
  },
  {
   "cell_type": "code",
   "execution_count": 45,
   "id": "d05f467e",
   "metadata": {},
   "outputs": [],
   "source": [
    "def check(nums):\n",
    "    for i in range(len(nums)):\n",
    "        if nums[i] in nums[i+1:]:\n",
    "            return True\n",
    "            break\n",
    "        else:\n",
    "            pass\n",
    "    return False\n",
    "        \n",
    "    \n",
    "    "
   ]
  },
  {
   "cell_type": "code",
   "execution_count": 46,
   "id": "de6054bf",
   "metadata": {},
   "outputs": [
    {
     "data": {
      "text/plain": [
       "False"
      ]
     },
     "execution_count": 46,
     "metadata": {},
     "output_type": "execute_result"
    }
   ],
   "source": [
    "check(h)"
   ]
  },
  {
   "cell_type": "code",
   "execution_count": 51,
   "id": "8841aeea",
   "metadata": {},
   "outputs": [],
   "source": [
    "def containsDuplicate(nums):\n",
    "    num_set = set()\n",
    "    for num in nums:\n",
    "        if num in num_set:\n",
    "            return True\n",
    "            break\n",
    "        num_set.add(num)\n",
    "    return False"
   ]
  },
  {
   "cell_type": "code",
   "execution_count": 52,
   "id": "5543a4b6",
   "metadata": {},
   "outputs": [
    {
     "data": {
      "text/plain": [
       "False"
      ]
     },
     "execution_count": 52,
     "metadata": {},
     "output_type": "execute_result"
    }
   ],
   "source": [
    "containsDuplicate(h)"
   ]
  },
  {
   "cell_type": "code",
   "execution_count": null,
   "id": "40f607ce",
   "metadata": {},
   "outputs": [],
   "source": []
  }
 ],
 "metadata": {
  "kernelspec": {
   "display_name": "superEnv",
   "language": "python",
   "name": "superenv"
  },
  "language_info": {
   "codemirror_mode": {
    "name": "ipython",
    "version": 3
   },
   "file_extension": ".py",
   "mimetype": "text/x-python",
   "name": "python",
   "nbconvert_exporter": "python",
   "pygments_lexer": "ipython3",
   "version": "3.9.13"
  }
 },
 "nbformat": 4,
 "nbformat_minor": 5
}
