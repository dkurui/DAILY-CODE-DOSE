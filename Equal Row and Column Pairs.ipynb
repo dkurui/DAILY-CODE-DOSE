{
 "cells": [
  {
   "cell_type": "markdown",
   "id": "2405a84f",
   "metadata": {},
   "source": [
    "Given a 0-indexed n x n integer matrix grid, return the number of pairs (ri, cj) such that row ri and column cj are equal.\n",
    "\n",
    "A row and column pair is considered equal if they contain the same elements in the same order (i.e., an equal array).\n",
    "\n",
    "Input: grid = [[3,2,1],[1,7,6],[2,7,7]]\n",
    "Output: 1\n",
    "Explanation: There is 1 equal row and column pair:\n",
    "- (Row 2, Column 1): [2,7,7]"
   ]
  },
  {
   "cell_type": "markdown",
   "id": "71ef7dbf",
   "metadata": {},
   "source": [
    "# MY SOLUTION"
   ]
  },
  {
   "cell_type": "code",
   "execution_count": 85,
   "id": "5b5861b0",
   "metadata": {},
   "outputs": [],
   "source": [
    "class Solution(object):\n",
    "    def equalPairs(self, grid):\n",
    "        count = 0\n",
    "        for i in range(len(grid)):\n",
    "            h = []\n",
    "            for item in grid:\n",
    "                h.append(item[i])\n",
    "            c = grid.count(h)\n",
    "            count +=c\n",
    "        return count"
   ]
  },
  {
   "cell_type": "code",
   "execution_count": 88,
   "id": "0384a003",
   "metadata": {},
   "outputs": [
    {
     "ename": "NameError",
     "evalue": "name 'self' is not defined",
     "output_type": "error",
     "traceback": [
      "\u001b[0;31m---------------------------------------------------------------------------\u001b[0m",
      "\u001b[0;31mNameError\u001b[0m                                 Traceback (most recent call last)",
      "\u001b[0;32m/var/folders/cf/kj0q_46d7j9gm1_c_6l1n5f00000gp/T/ipykernel_19688/3958559625.py\u001b[0m in \u001b[0;36m<module>\u001b[0;34m\u001b[0m\n\u001b[0;32m----> 1\u001b[0;31m \u001b[0mSolution\u001b[0m\u001b[0;34m.\u001b[0m\u001b[0mequalPairs\u001b[0m\u001b[0;34m(\u001b[0m\u001b[0mself\u001b[0m\u001b[0;34m,\u001b[0m\u001b[0mgrid\u001b[0m\u001b[0;34m)\u001b[0m\u001b[0;34m\u001b[0m\u001b[0;34m\u001b[0m\u001b[0m\n\u001b[0m",
      "\u001b[0;31mNameError\u001b[0m: name 'self' is not defined"
     ]
    }
   ],
   "source": [
    "Solution.equalPairs(,grid)"
   ]
  },
  {
   "cell_type": "code",
   "execution_count": null,
   "id": "b86aad73",
   "metadata": {},
   "outputs": [],
   "source": []
  }
 ],
 "metadata": {
  "kernelspec": {
   "display_name": "superEnv",
   "language": "python",
   "name": "superenv"
  },
  "language_info": {
   "codemirror_mode": {
    "name": "ipython",
    "version": 3
   },
   "file_extension": ".py",
   "mimetype": "text/x-python",
   "name": "python",
   "nbconvert_exporter": "python",
   "pygments_lexer": "ipython3",
   "version": "3.9.13"
  }
 },
 "nbformat": 4,
 "nbformat_minor": 5
}
