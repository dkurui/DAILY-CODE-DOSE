{
 "cells": [
  {
   "cell_type": "markdown",
   "id": "bf92a49a",
   "metadata": {},
   "source": [
    "Given a 0-indexed n x n integer matrix grid, return the number of pairs (ri, cj) such that row ri and column cj are equal.\n",
    "\n",
    "A row and column pair is considered equal if they contain the same elements in the same order (i.e., an equal array).\n",
    "\n",
    "Input: grid = [[3,2,1],[1,7,6],[2,7,7]]\n",
    "Output: 1\n",
    "Explanation: There is 1 equal row and column pair:\n",
    "- (Row 2, Column 1): [2,7,7]"
   ]
  },
  {
   "cell_type": "markdown",
   "id": "f20ff736",
   "metadata": {},
   "source": [
    "# MY SOLUTION"
   ]
  },
  {
   "cell_type": "code",
   "execution_count": 85,
   "id": "4ae12459",
   "metadata": {},
   "outputs": [],
   "source": [
    "class Solution(object):\n",
    "    def equalPairs(self, grid):\n",
    "        count = 0\n",
    "        for i in range(len(grid)):\n",
    "            h = []\n",
    "            for item in grid:\n",
    "                h.append(item[i])\n",
    "            c = grid.count(h)\n",
    "            count +=c\n",
    "        return count"
   ]
  },
  {
   "cell_type": "code",
   "execution_count": null,
   "id": "54253e4f",
   "metadata": {},
   "outputs": [],
   "source": []
  },
  {
   "cell_type": "code",
   "execution_count": 81,
   "id": "538d1fc4",
   "metadata": {},
   "outputs": [],
   "source": [
    "def equalPairs(grid):\n",
    "    count = 0\n",
    "    for i in range(len(grid)):\n",
    "        h = []\n",
    "        for item in grid:\n",
    "            h.append(item[i])\n",
    "        c = grid.count(h)\n",
    "        count +=c\n",
    "    return count\n",
    "    "
   ]
  },
  {
   "cell_type": "code",
   "execution_count": 82,
   "id": "e64e4af1",
   "metadata": {},
   "outputs": [
    {
     "data": {
      "text/plain": [
       "1"
      ]
     },
     "execution_count": 82,
     "metadata": {},
     "output_type": "execute_result"
    }
   ],
   "source": [
    "equalPairs(grid)"
   ]
  },
  {
   "cell_type": "code",
   "execution_count": null,
   "id": "d56d9de1",
   "metadata": {},
   "outputs": [],
   "source": []
  }
 ],
 "metadata": {
  "kernelspec": {
   "display_name": "superEnv",
   "language": "python",
   "name": "superenv"
  },
  "language_info": {
   "codemirror_mode": {
    "name": "ipython",
    "version": 3
   },
   "file_extension": ".py",
   "mimetype": "text/x-python",
   "name": "python",
   "nbconvert_exporter": "python",
   "pygments_lexer": "ipython3",
   "version": "3.9.13"
  }
 },
 "nbformat": 4,
 "nbformat_minor": 5
}
