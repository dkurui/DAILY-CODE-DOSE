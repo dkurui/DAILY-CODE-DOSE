{
 "cells": [
  {
   "cell_type": "markdown",
   "id": "cc6d747d",
   "metadata": {},
   "source": [
    "Given a 0-indexed n x n integer matrix grid, return the number of pairs (ri, cj) such that row ri and column cj are equal.\n",
    "\n",
    "A row and column pair is considered equal if they contain the same elements in the same order (i.e., an equal array).\n",
    "\n",
    "Input: grid = [[3,2,1],[1,7,6],[2,7,7]]\n",
    "Output: 1\n",
    "Explanation: There is 1 equal row and column pair:\n",
    "- (Row 2, Column 1): [2,7,7]"
   ]
  },
  {
   "cell_type": "markdown",
   "id": "a176dc1d",
   "metadata": {},
   "source": [
    "# MY SOLUTION"
   ]
  },
  {
   "cell_type": "code",
   "execution_count": 96,
   "id": "2a29cca7",
   "metadata": {},
   "outputs": [],
   "source": [
    "def equalPairs(grid):\n",
    "    count = 0\n",
    "    for i in range(len(grid)):\n",
    "        h = []\n",
    "        for item in grid:\n",
    "            h.append(item[i])\n",
    "        c = grid.count(h)\n",
    "        count +=c\n",
    "    return count"
   ]
  },
  {
   "cell_type": "code",
   "execution_count": 97,
   "id": "a5406263",
   "metadata": {},
   "outputs": [],
   "source": [
    "grid = [[3,2,1],[1,7,6],[2,7,7]] "
   ]
  },
  {
   "cell_type": "code",
   "execution_count": 98,
   "id": "292068e3",
   "metadata": {},
   "outputs": [
    {
     "data": {
      "text/plain": [
       "1"
      ]
     },
     "execution_count": 98,
     "metadata": {},
     "output_type": "execute_result"
    }
   ],
   "source": [
    "equalPairs(grid)"
   ]
  },
  {
   "cell_type": "code",
   "execution_count": null,
   "id": "9f9a6330",
   "metadata": {},
   "outputs": [],
   "source": []
  }
 ],
 "metadata": {
  "kernelspec": {
   "display_name": "superEnv",
   "language": "python",
   "name": "superenv"
  },
  "language_info": {
   "codemirror_mode": {
    "name": "ipython",
    "version": 3
   },
   "file_extension": ".py",
   "mimetype": "text/x-python",
   "name": "python",
   "nbconvert_exporter": "python",
   "pygments_lexer": "ipython3",
   "version": "3.9.13"
  }
 },
 "nbformat": 4,
 "nbformat_minor": 5
}
