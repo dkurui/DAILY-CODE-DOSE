{
 "cells": [
  {
   "cell_type": "markdown",
   "id": "ae9143a2",
   "metadata": {},
   "source": [
    "Given a string s, find the length of the longest \n",
    "substring\n",
    " without repeating characters.\n",
    "\n",
    " \n",
    "\n",
    "Example 1:\n",
    "\n",
    "Input: s = \"abcabcbb\"\n",
    "Output: 3\n",
    "Explanation: The answer is \"abc\", with the length of 3.\n",
    "Example 2:\n",
    "\n",
    "Input: s = \"bbbbb\"\n",
    "Output: 1\n",
    "Explanation: The answer is \"b\", with the length of 1.\n",
    "Example 3:\n",
    "\n",
    "Input: s = \"pwwkew\"\n",
    "Output: 3\n",
    "Explanation: The answer is \"wke\", with the length of 3.\n",
    "Notice that the answer must be a substring, \"pwke\" is a subsequence and not a substring.\n"
   ]
  },
  {
   "cell_type": "markdown",
   "id": "36c33fef",
   "metadata": {},
   "source": [
    "MY SOLUTION"
   ]
  },
  {
   "cell_type": "code",
   "execution_count": 153,
   "id": "80489a71",
   "metadata": {},
   "outputs": [],
   "source": [
    "def lengthOfLongestSubstring(s):\n",
    "    long_sub_str = []\n",
    "    for item in s:\n",
    "        for i in range(len(s)):\n",
    "            sub_str = (s[:i+1])\n",
    "            truths = set([sub_str.count(k)>1 for k in sub_str])\n",
    "            if(True in truths):\n",
    "                pass\n",
    "            else:\n",
    "                long_sub_str.append(sub_str)  \n",
    "        s = s.replace(item,'',1)\n",
    "    maximum = 0\n",
    "    for h in long_sub_str:\n",
    "        if(len(h)>maximum):\n",
    "            maximum = len(h)\n",
    "    return maximum   "
   ]
  },
  {
   "cell_type": "code",
   "execution_count": 154,
   "id": "2e699138",
   "metadata": {},
   "outputs": [
    {
     "data": {
      "text/plain": [
       "55"
      ]
     },
     "execution_count": 154,
     "metadata": {},
     "output_type": "execute_result"
    }
   ],
   "source": [
    "s = \"hijklmnopqrstuvwxyzABCDEFGHIJKLMNOPQRSTUVWXYZ0123456789hijklmnopqrstuvwxyzABCDEFGHIJKLMNOPQRSTUVWXYZ0123456789hijklmnopqrstuvwxyzABCDEFGHIJKLMNOPQRSTUVWXYZ0123456789hijklmnopqrstuvwxyzABCDEFGHIJKLMNOPQRSTUVWXYZ0123456789hijklmnopqrstuvwxyzABCDEFGHIJKLMNOPQRSTUVWXYZ0123456789hijklmnopqrstuvwxyzABCDEFGHIJKLMNOPQRSTUVWXYZ0123456789\"\n",
    "lengthOfLongestSubstring(s)"
   ]
  },
  {
   "cell_type": "markdown",
   "id": "7fb925c7",
   "metadata": {},
   "source": [
    "IDEAL SOLUTION"
   ]
  },
  {
   "cell_type": "code",
   "execution_count": 151,
   "id": "85b69bde",
   "metadata": {},
   "outputs": [],
   "source": [
    "def lengthOfLongestSubstring(s):\n",
    "    n = len(s)\n",
    "    long_sub_str = []\n",
    "    maximum = 0\n",
    "    left, right = 0, 0\n",
    "    unique_chars = set()\n",
    "\n",
    "    while right < n:\n",
    "        if s[right] not in unique_chars:\n",
    "            unique_chars.add(s[right])\n",
    "            right += 1\n",
    "            maximum = max(maximum, right - left)\n",
    "        else:\n",
    "            unique_chars.remove(s[left])\n",
    "            left += 1\n",
    "\n",
    "    return maximum   "
   ]
  },
  {
   "cell_type": "code",
   "execution_count": 152,
   "id": "cdef4f80",
   "metadata": {},
   "outputs": [
    {
     "data": {
      "text/plain": [
       "55"
      ]
     },
     "execution_count": 152,
     "metadata": {},
     "output_type": "execute_result"
    }
   ],
   "source": [
    "lengthOfLongestSubstring(s)"
   ]
  },
  {
   "cell_type": "code",
   "execution_count": null,
   "id": "5d6a1ad6",
   "metadata": {},
   "outputs": [],
   "source": []
  }
 ],
 "metadata": {
  "kernelspec": {
   "display_name": "superEnv",
   "language": "python",
   "name": "superenv"
  },
  "language_info": {
   "codemirror_mode": {
    "name": "ipython",
    "version": 3
   },
   "file_extension": ".py",
   "mimetype": "text/x-python",
   "name": "python",
   "nbconvert_exporter": "python",
   "pygments_lexer": "ipython3",
   "version": "3.9.13"
  }
 },
 "nbformat": 4,
 "nbformat_minor": 5
}
