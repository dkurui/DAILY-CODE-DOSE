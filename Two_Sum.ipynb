{
 "cells": [
  {
   "cell_type": "code",
   "execution_count": 98,
   "id": "ad00bb93",
   "metadata": {},
   "outputs": [],
   "source": [
    "# Given an array of integers nums and an integer target, return indices of the two numbers such that they add up to target.\n",
    "\n",
    "# You may assume that each input would have exactly one solution, and you may not use the same element twice.\n",
    "\n",
    "# You can return the answer in any order.\n",
    "\n",
    "\n",
    "# Example 1:\n",
    "\n",
    "# Input: nums = [2,7,11,15], target = 9\n",
    "# Output: [0,1]\n",
    "# Explanation: Because nums[0] + nums[1] == 9, we return [0, 1].\n",
    "# Example 2:\n",
    "\n",
    "# Input: nums = [3,2,4], target = 6\n",
    "# Output: [1,2]\n",
    "# Example 3:\n",
    "\n",
    "# Input: nums = [3,3], target = 6\n",
    "# Output: [0,1]"
   ]
  },
  {
   "cell_type": "markdown",
   "id": "85a081be",
   "metadata": {},
   "source": [
    "MY SOLUTION"
   ]
  },
  {
   "cell_type": "code",
   "execution_count": 99,
   "id": "4ebd02a7",
   "metadata": {},
   "outputs": [],
   "source": [
    "def twoSum(nums, target):\n",
    "    for i in range(len(nums)):\n",
    "        for k in range(i+1, len(nums)):\n",
    "            if (nums[i]+nums[k]) == target:\n",
    "                return([i, k])\n",
    "                "
   ]
  },
  {
   "cell_type": "code",
   "execution_count": 100,
   "id": "8162f730",
   "metadata": {},
   "outputs": [],
   "source": [
    "test_list = [2,7,11,15]\n",
    "target = 18"
   ]
  },
  {
   "cell_type": "code",
   "execution_count": 101,
   "id": "7499bbfb",
   "metadata": {},
   "outputs": [
    {
     "data": {
      "text/plain": [
       "[1, 2]"
      ]
     },
     "execution_count": 101,
     "metadata": {},
     "output_type": "execute_result"
    }
   ],
   "source": [
    "twoSum(test_list,target)"
   ]
  },
  {
   "cell_type": "markdown",
   "id": "4f5fdd96",
   "metadata": {},
   "source": [
    "IDEAL SOLUTION"
   ]
  },
  {
   "cell_type": "code",
   "execution_count": 102,
   "id": "f4179380",
   "metadata": {},
   "outputs": [],
   "source": [
    "def two_sum(nums, target):\n",
    "    num_dict = {}\n",
    "    for i, num in enumerate(nums):\n",
    "        complement = target - num\n",
    "        if complement in num_dict:\n",
    "            return [num_dict[complement], i]\n",
    "        num_dict[num] = i\n",
    "    return []"
   ]
  },
  {
   "cell_type": "code",
   "execution_count": 103,
   "id": "1e4f6e31",
   "metadata": {},
   "outputs": [
    {
     "data": {
      "text/plain": [
       "[1, 2]"
      ]
     },
     "execution_count": 103,
     "metadata": {},
     "output_type": "execute_result"
    }
   ],
   "source": [
    "two_sum(test_list,target)"
   ]
  },
  {
   "cell_type": "code",
   "execution_count": null,
   "id": "8fdff483",
   "metadata": {},
   "outputs": [],
   "source": []
  },
  {
   "cell_type": "code",
   "execution_count": null,
   "id": "789ee711",
   "metadata": {},
   "outputs": [],
   "source": []
  }
 ],
 "metadata": {
  "kernelspec": {
   "display_name": "superEnv",
   "language": "python",
   "name": "superenv"
  },
  "language_info": {
   "codemirror_mode": {
    "name": "ipython",
    "version": 3
   },
   "file_extension": ".py",
   "mimetype": "text/x-python",
   "name": "python",
   "nbconvert_exporter": "python",
   "pygments_lexer": "ipython3",
   "version": "3.9.13"
  }
 },
 "nbformat": 4,
 "nbformat_minor": 5
}
